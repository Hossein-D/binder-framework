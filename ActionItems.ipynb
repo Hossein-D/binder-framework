{
 "cells": [
  {
   "cell_type": "markdown",
   "id": "4acf1b27-0241-4269-91e2-eaaf7d2e3cb5",
   "metadata": {},
   "source": [
    "# Day 4: Milestone Action Items\n",
    "Download the data set about Value of Energy Cost Saving Program for businesses in New York City (under the \"Export\" option, there is a way to retrieve a CSV file). Answer the following questions. \n",
    "\n",
    "1. How many different companies are represented in the data set?\n",
    "2. What is the total number of jobs created for businesses in Queens?\n",
    "3. How many different unique email domains names are there in the data set?\n",
    "4. Considering only NTAs with at least 5 listed businesses, what is the average total savings and the total jobs created for each NTA?\n",
    "5. Save your result for the previous question as a CSV file.\n"
   ]
  },
  {
   "cell_type": "code",
   "execution_count": 262,
   "id": "70ceb1bf-e033-4d8c-a5d5-3cc07718b037",
   "metadata": {},
   "outputs": [
    {
     "name": "stdout",
     "output_type": "stream",
     "text": [
      "   Period                                 Company Name     company contact  \\\n",
      "0  FY2018                         139 ACA Realty, Inc.     Eitan Chandally   \n",
      "1  FY2018  141 Lake Avenue Realty c/o JR Produce, Inc.           Josef Raz   \n",
      "2  FY2018                       14-10 123rd Street LLC  Danica/Ivan Drazic   \n",
      "3  FY2018                      183 Lorriane Street LLC        Tom Sapienza   \n",
      "4  FY2018                    21st Century Optics, Inc.     Ralph Woythaler   \n",
      "\n",
      "                       company email company phone              Address  \\\n",
      "0                  barbara@dial7.com    7187076123    43-23 35th Street   \n",
      "1                jrproduce@gmail.com    7183708782      141 Lake Avenue   \n",
      "2          ddrazic@atjelectrical.com    7183210117   14-10 123rd Street   \n",
      "3                tsapienza@KLCNY.com    2128405588  183 Lorraine Street   \n",
      "4  rwoythaler@21st centuryoptics.com    7183922310    47-00 33rd Street   \n",
      "\n",
      "               City State  Postcode                          Industry  ...  \\\n",
      "0  Long Island City    NY     11101                        Commercial  ...   \n",
      "1     Staten Island    NY     10303  Wholesale/Warehouse/Distribution  ...   \n",
      "2     College Point    NY     11356                        Commercial  ...   \n",
      "3          Brooklyn    NY     11231  Wholesale/Warehouse/Distribution  ...   \n",
      "4  Lond Island City    NY     11101                     Manufacturing  ...   \n",
      "\n",
      "  Electric Savings    Borough   Latitude  Longitude  Community Board  \\\n",
      "0              NaN     QUEENS  40.745706 -73.929565            402.0   \n",
      "1              NaN  STATEN IS  40.632845 -74.151048            501.0   \n",
      "2              NaN     QUEENS  40.785144 -73.844833            407.0   \n",
      "3              NaN   BROOKLYN  40.673106 -74.002300            306.0   \n",
      "4              NaN     QUEENS  40.742386 -73.932148            402.0   \n",
      "\n",
      "  Council District        BIN           BBL  Census Tract (2020)  \\\n",
      "0             26.0  4003160.0  4.002220e+09              17902.0   \n",
      "1             49.0  5146740.0  5.011610e+09                239.0   \n",
      "2             19.0  4098344.0  4.040850e+09                929.0   \n",
      "3             38.0  3336622.0  3.005720e+09               5302.0   \n",
      "4             26.0  4003447.0  4.002520e+09              19901.0   \n",
      "\n",
      "   Neighborhood Tabulation Area (NTA) (2020)  \n",
      "0                                     QN0202  \n",
      "1                                     SI0107  \n",
      "2                                     QN0701  \n",
      "3                                     BK0601  \n",
      "4                                     QN0202  \n",
      "\n",
      "[5 rows x 30 columns]\n",
      "list of Columns = Index(['Period', 'Company Name', 'company contact', 'company email',\n",
      "       'company phone', 'Address', 'City', 'State', 'Postcode', 'Industry',\n",
      "       'Industry descr', 'Company Type', 'Current fulltime', 'Job created',\n",
      "       'Job retain', 'Effective Date', 'Total Savings',\n",
      "       'Savings from beginning receiving benefits', 'Gas Savings',\n",
      "       'Cogen savings', 'Electric Savings', 'Borough', 'Latitude', 'Longitude',\n",
      "       'Community Board', 'Council District', 'BIN', 'BBL',\n",
      "       'Census Tract (2020)', 'Neighborhood Tabulation Area (NTA) (2020)'],\n",
      "      dtype='object')\n"
     ]
    }
   ],
   "source": [
    "import pandas as pd\n",
    "import numpy as np\n",
    "from collections import defaultdict\n",
    "filename = \"Value_of_Energy_Cost_Savings_Program_Savings_for_Businesses_20231225.csv\"\n",
    "data = pd.read_csv(filename)\n",
    "data.head()\n",
    "print(data.head())\n",
    "listCol = (data.columns)\n",
    "print(f\"list of Columns = {listCol}\")"
   ]
  },
  {
   "cell_type": "markdown",
   "id": "d9c61620-cef5-443b-9ee7-80c03fbe884b",
   "metadata": {},
   "source": [
    "#### 1. How many different companies are represented in the data set?"
   ]
  },
  {
   "cell_type": "code",
   "execution_count": 26,
   "id": "bec831f6-7caa-4347-aad4-5eaa45aec308",
   "metadata": {},
   "outputs": [
    {
     "name": "stdout",
     "output_type": "stream",
     "text": [
      "number of unique company names = 787\n"
     ]
    }
   ],
   "source": [
    "companyNames = data[\"Company Name\"]\n",
    "uniqueNames = pd.Series(companyNames).unique()\n",
    "numUniqueNames = len(uniqueNames)\n",
    "print(f\"number of unique company names = {numUniqueNames}\")"
   ]
  },
  {
   "cell_type": "markdown",
   "id": "949685d8-1270-4f23-8169-06a4f24691cd",
   "metadata": {},
   "source": [
    "#### 2. What is the total number of jobs created for businesses in Queens?\n"
   ]
  },
  {
   "cell_type": "code",
   "execution_count": 208,
   "id": "7d5cd740-35e6-4dbe-b820-60f0b84bc13a",
   "metadata": {},
   "outputs": [
    {
     "name": "stdout",
     "output_type": "stream",
     "text": [
      "842\n",
      "len queensData = 842\n",
      "len jobNoNAN = 842\n",
      "24    10.0\n",
      "34    16.0\n",
      "41    25.0\n",
      "50     5.0\n",
      "55    40.0\n",
      "Name: Job created, dtype: float64\n",
      "number of jobs created in Queens = 1196.0\n"
     ]
    }
   ],
   "source": [
    "queensData = data[data[\"Borough\"]=='QUEENS']\n",
    "numQueens = print(len(queensData))\n",
    "queensData[\"Job created\"]\n",
    "#queensData = data.loc[data[\"Borough\"]=='QUEENS', \"Job created\"].notna()\n",
    "jobNoNAN = queensData[\"Job created\"].notna()\n",
    "print(f\"len queensData = {len(queensData)}\")\n",
    "#print(f\"jobNoNAN = {jobNoNAN[:5]}\")\n",
    "print(f\"len jobNoNAN = {len(jobNoNAN)}\")\n",
    "queensDataNoNAN = queensData[jobNoNAN][\"Job created\"]\n",
    "print(queensDataNoNAN[:5])\n",
    "print(f\"number of jobs created in Queens = {sum(queensDataNoNAN)}\")"
   ]
  },
  {
   "cell_type": "markdown",
   "id": "3850e53c-d59b-4a53-b93e-d7070681477f",
   "metadata": {},
   "source": [
    "#### 3. How many different unique email domains names are there in the data set?"
   ]
  },
  {
   "cell_type": "code",
   "execution_count": 76,
   "id": "844f0029-97d9-48b4-ae10-17b1cacb3143",
   "metadata": {},
   "outputs": [
    {
     "name": "stdout",
     "output_type": "stream",
     "text": [
      "number of unique company emails = 761\n"
     ]
    }
   ],
   "source": [
    "companyEmails = data[\"company email\"]\n",
    "uniqueEmails = pd.Series(companyEmails).unique()\n",
    "numUniqueEmails = len(uniqueEmails)\n",
    "print(f\"number of unique company emails = {numUniqueEmails}\")"
   ]
  },
  {
   "cell_type": "markdown",
   "id": "4d0a048d-5140-4f75-bb4b-0b79c2e075d5",
   "metadata": {},
   "source": [
    "#### 4. Considering only NTAs with at least 5 listed businesses, what is the average total savings and the total jobs created for each NTA? \n",
    "#### Question: \n",
    "There are 5 items in the dataset header with the keyword \"savings\". It is not clear which of these items should be considered for finding the total savings and how to count the total number of corresponding NTA to evaluate the average of the savings. Here, we only consider the item \"Savings from beginning receiving benefits\" to find the total savings. "
   ]
  },
  {
   "cell_type": "code",
   "execution_count": 343,
   "id": "3601f8c4-2e73-480f-a00e-9660fad56980",
   "metadata": {},
   "outputs": [
    {
     "name": "stdout",
     "output_type": "stream",
     "text": [
      " average total jobs = defaultdict(<class 'float'>, {'BK0503': 59.285714285714285, 'BK0104': 10.38888888888889, 'BK0102': 7.5, 'QN0701': 10.0, 'QN0105': 11.666666666666666, nan: 556.8095238095239, 'QN0402': 5.0, 'BK0702': 7.666666666666667, 'QN1204': 40.0, 'BK0401': 7.0, 'QN0202': 13.88888888888889, 'BK0601': 10.777777777777779, 'BX0201': 7.823529411764706, 'QN0261': 30.0, 'BX0101': 9.636363636363637, 'BK0101': 5.333333333333333, 'BK1602': 13.75, 'BK0301': 4.0, 'QN1303': 10.0, 'QN0501': 11.470588235294118, 'QN0101': 14.285714285714286, 'BK1101': 30.0, 'SI0305': 16.0, 'QN0104': 7.666666666666667, 'MN1102': 4.0, 'BX1203': 2.0, 'SI0107': 150.0, 'MN0401': 5.0, 'QN0704': 45.0, 'BX1161': 200.0, 'MN0902': 5.0, 'BX1001': 5.0, 'QN1202': 5.0, 'QN0103': 2.0, 'BX0301': 14.0, 'QN0503': 10.0, 'BK1702': 11.0, 'BX0302': 7.0, 'QN0502': 3.0, 'QN1402': 100.0, 'MN1202': 15.0, 'QN0203': 10.0, 'BK1803': 8.333333333333334, 'BK1802': 6.0, 'QN1102': 22.0, 'MN0501': 4.0, 'QN0201': 11.142857142857142, 'QN0902': 6.0, 'MN0102': 2.0, 'SI0106': 5.0, 'BK1202': 13.0, 'QN1201': 20.0, 'BK0203': 300.0}) \n",
      "\n",
      "\n",
      "\n",
      " average total savings = defaultdict(<class 'float'>, {'BK0503': 550983.6048148146, 'BK0104': 230656.9645192308, 'BK0102': 93421.58666666666, 'QN0701': 508639.1145454546, 'QN0105': 507435.02034482756, nan: 364986.49639269436, 'QN0402': 261044.71090909094, 'BK0702': 155966.83640926634, 'QN1204': 63416.175, 'BK0401': 94319.32857142857, 'QN0202': 119618.54206896551, 'BK0601': 217193.95428571434, 'BX0201': 247623.05554621844, 'QN0261': 54972.74857142855, 'BX0101': 168075.25655172401, 'BK0101': 144467.5058974359, 'BK1602': 76452.83277777776, 'BK0301': 227244.43833333332, 'QN1303': 38482.213, 'QN0501': 154572.85695652166, 'QN0101': 210857.85108108105, 'BK1101': 148663.3125, 'SI0305': 55448.22, 'QN0104': 1258637.6518181816, 'MN1102': 85593.556875, 'BX1203': 73142.55666666666, 'SI0107': 683996.1973333335, 'MN0401': 202732.86875, 'QN0704': 302639.68, 'BX1161': 332763.5022222222, 'MN0902': 22640.94530612244, 'BX1001': 190658.98411764708, 'QN1202': 121601.77, 'QN0103': 93760.09125, 'BX0301': 38006.69, 'QN0503': 99960.18900000001, 'BK1702': 936696.0066666667, 'BX0302': 218663.91400000002, 'QN0502': 130616.28882352942, 'QN1402': 479350.755, 'MN1202': 143567.41499999998, 'QN0203': 74502.57954545456, 'BK1803': 158508.82888888885, 'BK1802': 68924.37, 'QN1102': 48630.765, 'MN0501': 249349.645, 'QN0201': 205256.59670454546, 'QN0902': 131445.3090909091, 'MN0102': 687515.1386666668, 'SI0106': 56439.24571428572, 'BK1202': 148314.06714285715, 'QN1201': 118370.55090909092, 'BK0203': 489659.30999999994})\n"
     ]
    }
   ],
   "source": [
    "ntaData = data[\"Neighborhood Tabulation Area (NTA) (2020)\"]\n",
    "ntaValues = ntaData.value_counts()\n",
    "#print(ntaValues)\n",
    "min5Business = ntaValues[ntaValues>=5].index.to_list()\n",
    "ntajob5Business = data[\"Neighborhood Tabulation Area (NTA) (2020)\"].isin(min5Business)#[\"Job created\"].notna()\n",
    "#print(\"ntajob5BusinessNoNAN = \", ntajob5BusinessNoNAN)\n",
    "ntajob5BusinessNoNAN = data[ntajob5Business][\"Job created\"].notna()\n",
    "\n",
    "totalJobsNTA = defaultdict(float)\n",
    "totalCountNTA = defaultdict(float)\n",
    "aveJobsNTA = defaultdict(float)\n",
    "\n",
    "totalSavingNTA = defaultdict(float)\n",
    "totalSavingCountNTA = defaultdict(float)\n",
    "aveSavingNTA = defaultdict(float)\n",
    "#print(f\"ntajob5BusinessNoNAN = {ntajob5BusinessNoNAN}\")\n",
    "for i in range(len(data)):\n",
    "    ntai = data.loc[i][\"Neighborhood Tabulation Area (NTA) (2020)\"]\n",
    "    if not np.isnan(data.loc[i][\"Job created\"]):\n",
    "        totalCountNTA[ntai] += 1        \n",
    "        totalJobsNTA[ntai] += data.loc[i][\"Job created\"]        \n",
    "    if not np.isnan(data.loc[i]['Savings from beginning receiving benefits']):\n",
    "        totalSavingCountNTA[ntai] += 1            \n",
    "        totalSavingNTA[ntai] += data.loc[i][\"Savings from beginning receiving benefits\"]\n",
    "\n",
    "for k in totalCountNTA.keys():\n",
    "    aveSavingNTA[k]=totalSavingNTA[k]/totalSavingCountNTA[k]\n",
    "    \n",
    "for k in totalCountNTA.keys():\n",
    "    aveJobsNTA[k]=totalJobsNTA[k]/totalCountNTA[k]\n",
    "    \n",
    "print(f\" average total jobs = {aveJobsNTA}\", \"\\n\\n\\n\")\n",
    "print(f\" average total savings = {aveSavingNTA}\")\n",
    "\n",
    "\"\"\"\n",
    "data['Gas Savings'].notna()\n",
    "data['Cogen savings'][:20]\n",
    "data['Electric Savings'][:20]\n",
    "data['Savings from beginning receiving benefits']\n",
    "\"\"\";"
   ]
  },
  {
   "cell_type": "markdown",
   "id": "b6f508bf-612f-4398-9f89-261609037a51",
   "metadata": {},
   "source": [
    "#### 5. Save your result for the previous question as a CSV file."
   ]
  },
  {
   "cell_type": "code",
   "execution_count": 339,
   "id": "98d076ee-c8b0-4222-b002-440f466123ae",
   "metadata": {},
   "outputs": [],
   "source": [
    "NTAJobSaving = []\n",
    "for k in aveJobsNTA.keys():\n",
    "    job = round(aveJobsNTA[k], 3)\n",
    "    saving = round(aveSavingNTA[k], 3)\n",
    "    dictk = {'NTA':k, 'Average Total Jobs':job, 'Average Total Savings':saving}\n",
    "    NTAJobSaving.append(dictk)    \n",
    "\n",
    "with open('totalJobsSaving.csv', 'w') as f:\n",
    "    # Write all the dictionary keys in a file with commas separated.\n",
    "    f.write(','.join(NTAJobSaving[0].keys()))\n",
    "    f.write('\\n') \n",
    "    for row in NTAJobSaving:\n",
    "        # Write the values in a row.\n",
    "        f.write(','.join(str(x) for x in row.values()))\n",
    "        f.write('\\n') "
   ]
  },
  {
   "cell_type": "markdown",
   "id": "88da4243-76b6-4edf-93d4-b125310198b0",
   "metadata": {},
   "source": [
    "# Day 5: Milestone Action Items\n",
    "\n",
    "1. Go through the Introductory Tutorials on Matplotlib.\n",
    "2. Using the same data set and results that you were working with in the pandas action items section (Day 4), create a\n",
    "   i) scatter plot of jobs created versus average savings. Use both a standard and a logarithmic scale for the average savings.\n",
    "   ii) histogram of the log of the average total savings.\n",
    "   iii) line plot of the total jobs created for each month.\n",
    "3. If you have time, take a look at this short tutorial on Altair.\n"
   ]
  },
  {
   "cell_type": "markdown",
   "id": "24fb2588-5a11-4776-b906-ed7749bd48ee",
   "metadata": {},
   "source": [
    "#### i) Create a scatter plot of jobs created versus average savings. Use both a standard and a logarithmic scale for the average savings."
   ]
  },
  {
   "cell_type": "code",
   "execution_count": 366,
   "id": "ee080d33-0d12-4f09-89d6-46494d886ae0",
   "metadata": {},
   "outputs": [
    {
     "name": "stdout",
     "output_type": "stream",
     "text": [
      "53\n",
      "53\n"
     ]
    },
    {
     "data": {
      "image/png": "[encoded data removed]",
      "text/plain": [
       "<Figure size 640x480 with 2 Axes>"
      ]
     },
     "metadata": {},
     "output_type": "display_data"
    }
   ],
   "source": [
    "import matplotlib.pyplot as plt\n",
    "\n",
    "for k in totalCountNTA.keys():\n",
    "    aveSavingNTA[k]=totalSavingNTA[k]/totalSavingCountNTA[k]\n",
    "listAveSavingNTA = list(aveSavingNTA.values())    \n",
    "print(len(listAveSavingNTA))\n",
    "for k in totalCountNTA.keys():\n",
    "    aveJobsNTA[k]=totalJobsNTA[k]/totalCountNTA[k]\n",
    "listAveJobsNTA = list(aveJobsNTA.values())\n",
    "print(len(listAveJobsNTA))\n",
    "fig, ax = plt.subplots(2)\n",
    "#for color in ['tab:blue', 'tab:orange', 'tab:green']:    \n",
    "ax[0].scatter(listAveSavingNTA, listAveJobsNTA, marker='o', \n",
    "        alpha=0.3, edgecolors='none')\n",
    "#ax[0].set_xlabel(\"average savings\")\n",
    "ax[0].set_ylabel(\"average total jobs\")\n",
    "\n",
    "ax[1].scatter(listAveSavingNTA, listAveJobsNTA, marker='o', \n",
    "        alpha=0.3, edgecolors='none')\n",
    "ax[1].set_xscale('log')\n",
    "ax[1].set_xlabel(\"average savings\")\n",
    "ax[1].set_ylabel(\"average total jobs\")\n",
    "\n",
    "#ax[0].legend()\n",
    "ax[1].grid(True)\n",
    "fig.tight_layout() \n",
    "plt.show()\n"
   ]
  },
  {
   "cell_type": "markdown",
   "id": "3b71a414-ebfc-47a9-a0f2-0d0771207219",
   "metadata": {},
   "source": [
    "#### ii) Create a histogram of the log of the average total savings."
   ]
  },
  {
   "cell_type": "code",
   "execution_count": 376,
   "id": "f3823776-89a6-4dc6-9c05-9016ce3e78f7",
   "metadata": {},
   "outputs": [
    {
     "data": {
      "image/png": "[encoded data removed]",
      "text/plain": [
       "<Figure size 640x480 with 1 Axes>"
      ]
     },
     "metadata": {},
     "output_type": "display_data"
    }
   ],
   "source": [
    "nbins = 40\n",
    "#x = \n",
    "fig, ax = plt.subplots(tight_layout=True)\n",
    "\"\"\"\n",
    "n, bins, patches = ax.hist(x, num_bins, density=True)\n",
    "\n",
    "ax.plot(bins, listAveSavingNTA, '--')\n",
    "ax.set_xlabel('Value')\n",
    "ax.set_ylabel('Probability density')\n",
    "ax.set_title('Histogram of normal distribution sample: '\n",
    "             fr'$\\mu={mu:.0f}$, $\\sigma={sigma:.0f}$')\n",
    "\"\"\"             \n",
    "ax.hist(listAveSavingNTA, bins=nbins)\n",
    "ax.set_xlabel('average savings')\n",
    "ax.set_ylabel('number of companies')\n",
    "ax.set_title('Histogram of average savings of companies')\n",
    "fig.tight_layout()\n",
    "plt.show()"
   ]
  },
  {
   "cell_type": "code",
   "execution_count": null,
   "id": "5feb9b97-78f4-4e4e-8560-544d8afbe7c1",
   "metadata": {},
   "outputs": [],
   "source": []
  }
 ],
 "metadata": {
  "kernelspec": {
   "display_name": "Python 3 (ipykernel)",
   "language": "python",
   "name": "python3"
  },
  "language_info": {
   "codemirror_mode": {
    "name": "ipython",
    "version": 3
   },
   "file_extension": ".py",
   "mimetype": "text/x-python",
   "name": "python",
   "nbconvert_exporter": "python",
   "pygments_lexer": "ipython3",
   "version": "3.11.5"
  }
 },
 "nbformat": 4,
 "nbformat_minor": 5
}
